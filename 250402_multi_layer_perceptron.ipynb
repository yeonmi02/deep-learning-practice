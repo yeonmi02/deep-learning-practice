{
  "nbformat": 4,
  "nbformat_minor": 0,
  "metadata": {
    "colab": {
      "provenance": [],
      "include_colab_link": true
    },
    "kernelspec": {
      "name": "python3",
      "display_name": "Python 3"
    },
    "language_info": {
      "name": "python"
    }
  },
  "cells": [
    {
      "cell_type": "markdown",
      "metadata": {
        "id": "view-in-github",
        "colab_type": "text"
      },
      "source": [
        "<a href=\"https://colab.research.google.com/github/yeonmi02/deep-learning-practice/blob/main/250402_multi_layer_perceptron.ipynb\" target=\"_parent\"><img src=\"https://colab.research.google.com/assets/colab-badge.svg\" alt=\"Open In Colab\"/></a>"
      ]
    },
    {
      "cell_type": "markdown",
      "source": [
        "# Numpy 기초 실습"
      ],
      "metadata": {
        "id": "KCKM3Y7FIbht"
      }
    },
    {
      "cell_type": "markdown",
      "source": [
        "## List to Numpy Array"
      ],
      "metadata": {
        "id": "BZM4raj2OsUj"
      }
    },
    {
      "cell_type": "code",
      "execution_count": 53,
      "metadata": {
        "id": "g1koiUYhICMu"
      },
      "outputs": [],
      "source": [
        "import numpy as np # 라이브러리"
      ]
    },
    {
      "cell_type": "code",
      "source": [
        "# 2차원 배열\n",
        "test = np.array([[1,2,3], [4,5,6]])\n",
        "test"
      ],
      "metadata": {
        "id": "l3oAg5vFIeFx",
        "colab": {
          "base_uri": "https://localhost:8080/"
        },
        "outputId": "429ee4de-0fcd-4a60-a998-38883fcdf40e"
      },
      "execution_count": 54,
      "outputs": [
        {
          "output_type": "execute_result",
          "data": {
            "text/plain": [
              "array([[1, 2, 3],\n",
              "       [4, 5, 6]])"
            ]
          },
          "metadata": {},
          "execution_count": 54
        }
      ]
    },
    {
      "cell_type": "markdown",
      "source": [
        "### 문제1 : 아래 list 3개를 각각 행으로 갖는 배열을 생성하는 코드를 완성하고 배열의 크기를 print 하세요"
      ],
      "metadata": {
        "id": "3NI3EK4eS3w0"
      }
    },
    {
      "cell_type": "code",
      "source": [
        "list1 = [1,2,3,4]\n",
        "list2 = [5,6,7,8]\n",
        "list3 = [9,10,11,12]\n",
        "\n",
        "arr = np.array([list1, list2, list3])\n",
        "\n",
        "print(arr)\n",
        "print(arr.shape)"
      ],
      "metadata": {
        "colab": {
          "base_uri": "https://localhost:8080/"
        },
        "id": "llyjyRFlO07T",
        "outputId": "c5603224-dee6-41e7-e834-73664e39ce60"
      },
      "execution_count": 52,
      "outputs": [
        {
          "output_type": "stream",
          "name": "stdout",
          "text": [
            "[[ 1  2  3  4]\n",
            " [ 5  6  7  8]\n",
            " [ 9 10 11 12]]\n",
            "(3, 4)\n"
          ]
        }
      ]
    },
    {
      "cell_type": "markdown",
      "source": [
        "## Reshape"
      ],
      "metadata": {
        "id": "_42lJZZqQ8Iq"
      }
    },
    {
      "cell_type": "code",
      "source": [
        "# 배열을 자유롭게 바꿀 수 있는 코드\n",
        "arr16 = np.array(list(range(16))).reshape((4,4))\n",
        "arr16"
      ],
      "metadata": {
        "colab": {
          "base_uri": "https://localhost:8080/"
        },
        "id": "7txsOkorOwSa",
        "outputId": "edeaf1bd-1a35-4874-c674-24de41354733"
      },
      "execution_count": 56,
      "outputs": [
        {
          "output_type": "execute_result",
          "data": {
            "text/plain": [
              "array([[ 0,  1,  2,  3],\n",
              "       [ 4,  5,  6,  7],\n",
              "       [ 8,  9, 10, 11],\n",
              "       [12, 13, 14, 15]])"
            ]
          },
          "metadata": {},
          "execution_count": 56
        }
      ]
    },
    {
      "cell_type": "markdown",
      "source": [
        "### 문제2 : 0부터 15까지의 숫자를 원소로 갖는 배열을 아래의 형태로 만드는 코드를 작성해보세요"
      ],
      "metadata": {
        "id": "DAUCn6vtS9Zw"
      }
    },
    {
      "cell_type": "code",
      "source": [
        "[[ 0,  1],\n",
        "[ 2,  3],\n",
        "[ 4,  5],\n",
        "[ 6,  7],\n",
        "[ 8,  9],\n",
        "[10, 11],\n",
        "[12, 13],\n",
        "[14, 15]]\n",
        "\n",
        "arr16_reshaped = np.array(list(range(16))).reshape((8,2))\n",
        "print(arr16_reshaped)"
      ],
      "metadata": {
        "colab": {
          "base_uri": "https://localhost:8080/"
        },
        "id": "Nb3XPc0EQcyP",
        "outputId": "9b3383cf-0088-44a0-f5b9-6b5afafc968e"
      },
      "execution_count": 22,
      "outputs": [
        {
          "output_type": "stream",
          "name": "stdout",
          "text": [
            "[[ 0  1]\n",
            " [ 2  3]\n",
            " [ 4  5]\n",
            " [ 6  7]\n",
            " [ 8  9]\n",
            " [10 11]\n",
            " [12 13]\n",
            " [14 15]]\n"
          ]
        }
      ]
    },
    {
      "cell_type": "markdown",
      "source": [
        "## 0 or 1 값 채우기"
      ],
      "metadata": {
        "id": "saqa0r5HRC0p"
      }
    },
    {
      "cell_type": "code",
      "source": [
        "# 특정 숫자로 채우고 싶을 때\n",
        "filled_one = np.ones(16)\n",
        "filled_one"
      ],
      "metadata": {
        "colab": {
          "base_uri": "https://localhost:8080/"
        },
        "id": "zi8SkccPRKEm",
        "outputId": "a66a95df-9eb6-4734-fe0d-a4cd261c43d4"
      },
      "execution_count": 59,
      "outputs": [
        {
          "output_type": "execute_result",
          "data": {
            "text/plain": [
              "array([1., 1., 1., 1., 1., 1., 1., 1., 1., 1., 1., 1., 1., 1., 1., 1.])"
            ]
          },
          "metadata": {},
          "execution_count": 59
        }
      ]
    },
    {
      "cell_type": "code",
      "source": [
        "filled_zero = np.zeros((2,5))\n",
        "filled_zero"
      ],
      "metadata": {
        "colab": {
          "base_uri": "https://localhost:8080/"
        },
        "id": "695GN0E_RL5G",
        "outputId": "e907b84b-e8bb-4f6b-f552-6ef03ecf5a57"
      },
      "execution_count": 58,
      "outputs": [
        {
          "output_type": "execute_result",
          "data": {
            "text/plain": [
              "array([[0., 0., 0., 0., 0.],\n",
              "       [0., 0., 0., 0., 0.]])"
            ]
          },
          "metadata": {},
          "execution_count": 58
        }
      ]
    },
    {
      "cell_type": "code",
      "source": [
        "filled_like_arr16 = np.ones_like(arr16)\n",
        "filled_like_arr16"
      ],
      "metadata": {
        "colab": {
          "base_uri": "https://localhost:8080/"
        },
        "id": "5hoOf65CRHD-",
        "outputId": "3953311c-01d2-427d-b9f3-f15508abc048"
      },
      "execution_count": 15,
      "outputs": [
        {
          "output_type": "execute_result",
          "data": {
            "text/plain": [
              "array([[1, 1, 1, 1],\n",
              "       [1, 1, 1, 1],\n",
              "       [1, 1, 1, 1],\n",
              "       [1, 1, 1, 1]])"
            ]
          },
          "metadata": {},
          "execution_count": 15
        }
      ]
    },
    {
      "cell_type": "markdown",
      "source": [
        "### 문제 3 : 아래 형태를 갖는 배열을 만드는 코드를 작성해보세요\n",
        "- ones, zeros, reshape 사용\n",
        "- 성공했으면 concatenate의 axis를 0으로 바꿔보고 어떤 동작을 하는지 적어보세요- axis의 값을 0으로 바꾸니 배열이 수직으로 이루어지는 것으로 바뀌어서 결과가 나타났다"
      ],
      "metadata": {
        "id": "FbJ_pfUrTDtR"
      }
    },
    {
      "cell_type": "code",
      "source": [
        "# arr_with_one 배열 참고\n",
        "[[1., 1.],\n",
        "[1., 1.],\n",
        "[1., 1.],\n",
        "[1., 1.]]\n",
        "\n",
        "# arr_with_zero 배열 참고\n",
        "[[0., 0.],\n",
        "[0., 0.],\n",
        "[0., 0.],\n",
        "[0., 0.]]\n",
        "\n",
        "# arr_with_one_zero 배열 참고\n",
        "[[1., 1., 0., 0.],\n",
        "[1., 1., 0., 0.],\n",
        "[1., 1., 0., 0.],\n",
        "[1., 1., 0., 0.]]\n",
        "\n",
        "arr_with_one = np.ones((4, 2))\n",
        "arr_with_zero = np.zeros((4, 2))\n",
        "arr_with_one_zero = np.concatenate((arr_with_one, arr_with_zero), axis=1) # 수평으로 배열 합치기\n",
        "arr_with_one_zero"
      ],
      "metadata": {
        "colab": {
          "base_uri": "https://localhost:8080/"
        },
        "id": "cgChTODOS1LU",
        "outputId": "85e84f57-f1d0-4c14-f064-7b81f1ba9a55"
      },
      "execution_count": 61,
      "outputs": [
        {
          "output_type": "execute_result",
          "data": {
            "text/plain": [
              "array([[1., 1., 0., 0.],\n",
              "       [1., 1., 0., 0.],\n",
              "       [1., 1., 0., 0.],\n",
              "       [1., 1., 0., 0.]])"
            ]
          },
          "metadata": {},
          "execution_count": 61
        }
      ]
    },
    {
      "cell_type": "markdown",
      "source": [
        "## Broadcasting"
      ],
      "metadata": {
        "id": "SjUfnuZsU7qo"
      }
    },
    {
      "cell_type": "code",
      "source": [
        "# 배열 간의 연산을 직관적으로 해주는 기능\n",
        "bc = np.ones(25).reshape((5,5))\n",
        "bc = bc * 5 - 1\n",
        "bc"
      ],
      "metadata": {
        "colab": {
          "base_uri": "https://localhost:8080/"
        },
        "id": "0fevWabMU4ow",
        "outputId": "c3ae7c4a-2f38-4e13-d0d6-b8eddcbc5efe"
      },
      "execution_count": 62,
      "outputs": [
        {
          "output_type": "execute_result",
          "data": {
            "text/plain": [
              "array([[4., 4., 4., 4., 4.],\n",
              "       [4., 4., 4., 4., 4.],\n",
              "       [4., 4., 4., 4., 4.],\n",
              "       [4., 4., 4., 4., 4.],\n",
              "       [4., 4., 4., 4., 4.]])"
            ]
          },
          "metadata": {},
          "execution_count": 62
        }
      ]
    },
    {
      "cell_type": "code",
      "source": [
        "bc2 = bc * 0 + 3\n",
        "bc + bc2"
      ],
      "metadata": {
        "colab": {
          "base_uri": "https://localhost:8080/"
        },
        "id": "d_-NYyHiVV2k",
        "outputId": "aa28ba49-c029-4b17-adfc-5fa34aef126d"
      },
      "execution_count": 63,
      "outputs": [
        {
          "output_type": "execute_result",
          "data": {
            "text/plain": [
              "array([[7., 7., 7., 7., 7.],\n",
              "       [7., 7., 7., 7., 7.],\n",
              "       [7., 7., 7., 7., 7.],\n",
              "       [7., 7., 7., 7., 7.],\n",
              "       [7., 7., 7., 7., 7.]])"
            ]
          },
          "metadata": {},
          "execution_count": 63
        }
      ]
    },
    {
      "cell_type": "code",
      "source": [
        "one_dim_arr = [5, 5, 5, 5, 5]\n",
        "new_bc = bc + one_dim_arr\n",
        "new_bc"
      ],
      "metadata": {
        "colab": {
          "base_uri": "https://localhost:8080/"
        },
        "id": "WTCCfB42VqM0",
        "outputId": "3b497a16-712b-4519-8f16-2016515f54b0"
      },
      "execution_count": 25,
      "outputs": [
        {
          "output_type": "execute_result",
          "data": {
            "text/plain": [
              "array([[9., 9., 9., 9., 9.],\n",
              "       [9., 9., 9., 9., 9.],\n",
              "       [9., 9., 9., 9., 9.],\n",
              "       [9., 9., 9., 9., 9.],\n",
              "       [9., 9., 9., 9., 9.]])"
            ]
          },
          "metadata": {},
          "execution_count": 25
        }
      ]
    },
    {
      "cell_type": "markdown",
      "source": [
        "## Slicing"
      ],
      "metadata": {
        "id": "bam-pV95XlMe"
      }
    },
    {
      "cell_type": "code",
      "source": [
        "print(arr16)"
      ],
      "metadata": {
        "colab": {
          "base_uri": "https://localhost:8080/"
        },
        "id": "kIPoNUNHXoSE",
        "outputId": "e0201aa3-c5e3-4c42-8c8c-56484c4a5b2a"
      },
      "execution_count": 26,
      "outputs": [
        {
          "output_type": "stream",
          "name": "stdout",
          "text": [
            "[[ 0  1  2  3]\n",
            " [ 4  5  6  7]\n",
            " [ 8  9 10 11]\n",
            " [12 13 14 15]]\n"
          ]
        }
      ]
    },
    {
      "cell_type": "code",
      "source": [
        "arr16[2]"
      ],
      "metadata": {
        "colab": {
          "base_uri": "https://localhost:8080/"
        },
        "id": "AOAl51ENX4BR",
        "outputId": "c55bcacf-5471-43b0-fa95-84aed2ceb2e7"
      },
      "execution_count": 27,
      "outputs": [
        {
          "output_type": "execute_result",
          "data": {
            "text/plain": [
              "array([ 8,  9, 10, 11])"
            ]
          },
          "metadata": {},
          "execution_count": 27
        }
      ]
    },
    {
      "cell_type": "code",
      "source": [
        "arr16[2,:]"
      ],
      "metadata": {
        "colab": {
          "base_uri": "https://localhost:8080/"
        },
        "id": "UtTGQhkFX7eA",
        "outputId": "fbaa6f9c-d88c-4a21-d429-f668976f30a3"
      },
      "execution_count": 28,
      "outputs": [
        {
          "output_type": "execute_result",
          "data": {
            "text/plain": [
              "array([ 8,  9, 10, 11])"
            ]
          },
          "metadata": {},
          "execution_count": 28
        }
      ]
    },
    {
      "cell_type": "code",
      "source": [
        "arr16[:,2]"
      ],
      "metadata": {
        "colab": {
          "base_uri": "https://localhost:8080/"
        },
        "id": "mhwqHG0WYCOf",
        "outputId": "1b85b84d-df9d-4ba9-ebf8-00f5148f0733"
      },
      "execution_count": 29,
      "outputs": [
        {
          "output_type": "execute_result",
          "data": {
            "text/plain": [
              "array([ 2,  6, 10, 14])"
            ]
          },
          "metadata": {},
          "execution_count": 29
        }
      ]
    },
    {
      "cell_type": "code",
      "source": [
        "print(arr16[0:2])\n",
        "print(arr16[0,2])"
      ],
      "metadata": {
        "colab": {
          "base_uri": "https://localhost:8080/"
        },
        "id": "mQKj_5KJYFou",
        "outputId": "c6ea594f-ecd6-486b-96f4-5bd40e328789"
      },
      "execution_count": 30,
      "outputs": [
        {
          "output_type": "stream",
          "name": "stdout",
          "text": [
            "[[0 1 2 3]\n",
            " [4 5 6 7]]\n",
            "2\n"
          ]
        }
      ]
    },
    {
      "cell_type": "code",
      "source": [
        "arr16[1:3]"
      ],
      "metadata": {
        "colab": {
          "base_uri": "https://localhost:8080/"
        },
        "id": "Zm7kGKN6YKZH",
        "outputId": "a19655ea-614c-4488-9706-45a02baa9ad0"
      },
      "execution_count": 31,
      "outputs": [
        {
          "output_type": "execute_result",
          "data": {
            "text/plain": [
              "array([[ 4,  5,  6,  7],\n",
              "       [ 8,  9, 10, 11]])"
            ]
          },
          "metadata": {},
          "execution_count": 31
        }
      ]
    },
    {
      "cell_type": "code",
      "source": [
        "arr16[arr16[:,0]<5]"
      ],
      "metadata": {
        "colab": {
          "base_uri": "https://localhost:8080/"
        },
        "id": "qGCo_DOuYX4I",
        "outputId": "d6ca3b0e-7409-42c7-c891-7432dc430b1a"
      },
      "execution_count": 32,
      "outputs": [
        {
          "output_type": "execute_result",
          "data": {
            "text/plain": [
              "array([[0, 1, 2, 3],\n",
              "       [4, 5, 6, 7]])"
            ]
          },
          "metadata": {},
          "execution_count": 32
        }
      ]
    },
    {
      "cell_type": "markdown",
      "source": [
        "### 문제 4 : 3번째 열에서(index=2) 10보다 크거나 같은 원소가 있는 행 전체를 담는 배열을 생성해보세요"
      ],
      "metadata": {
        "id": "_0E3g_8eY6sR"
      }
    },
    {
      "cell_type": "code",
      "source": [
        "# 결과\n",
        "[ 8,  9, 10, 11],\n",
        "[12, 13, 14, 15]\n",
        "\n",
        "test_arr = arr16[2:4]\n",
        "test_arr"
      ],
      "metadata": {
        "colab": {
          "base_uri": "https://localhost:8080/"
        },
        "id": "3EkzmxahYjEK",
        "outputId": "445e2b95-1fdd-4b1c-a473-0284974bfb61"
      },
      "execution_count": 37,
      "outputs": [
        {
          "output_type": "execute_result",
          "data": {
            "text/plain": [
              "array([[ 8,  9, 10, 11],\n",
              "       [12, 13, 14, 15]])"
            ]
          },
          "metadata": {},
          "execution_count": 37
        }
      ]
    },
    {
      "cell_type": "markdown",
      "source": [
        "## 평균(mean)"
      ],
      "metadata": {
        "id": "BirMFOCVZPrX"
      }
    },
    {
      "cell_type": "code",
      "source": [
        "target = np.ones((10000,100))\n",
        "target.shape"
      ],
      "metadata": {
        "colab": {
          "base_uri": "https://localhost:8080/"
        },
        "id": "03qrGGPEZOA6",
        "outputId": "7064fa2f-26e0-4121-ee2c-f4f9c2b352b0"
      },
      "execution_count": 38,
      "outputs": [
        {
          "output_type": "execute_result",
          "data": {
            "text/plain": [
              "(10000, 100)"
            ]
          },
          "metadata": {},
          "execution_count": 38
        }
      ]
    },
    {
      "cell_type": "code",
      "source": [
        "# 축에 따라 구하는 평균이 달라짐\n",
        "mean = target.mean(axis=0)\n",
        "print(mean.shape)\n",
        "print(mean)"
      ],
      "metadata": {
        "colab": {
          "base_uri": "https://localhost:8080/"
        },
        "id": "jm7RCGItZn37",
        "outputId": "9d59427c-37c1-4107-84ef-b40e51481d03"
      },
      "execution_count": 64,
      "outputs": [
        {
          "output_type": "stream",
          "name": "stdout",
          "text": [
            "(100,)\n",
            "[1. 1. 1. 1. 1. 1. 1. 1. 1. 1. 1. 1. 1. 1. 1. 1. 1. 1. 1. 1. 1. 1. 1. 1.\n",
            " 1. 1. 1. 1. 1. 1. 1. 1. 1. 1. 1. 1. 1. 1. 1. 1. 1. 1. 1. 1. 1. 1. 1. 1.\n",
            " 1. 1. 1. 1. 1. 1. 1. 1. 1. 1. 1. 1. 1. 1. 1. 1. 1. 1. 1. 1. 1. 1. 1. 1.\n",
            " 1. 1. 1. 1. 1. 1. 1. 1. 1. 1. 1. 1. 1. 1. 1. 1. 1. 1. 1. 1. 1. 1. 1. 1.\n",
            " 1. 1. 1. 1.]\n"
          ]
        }
      ]
    },
    {
      "cell_type": "code",
      "source": [
        "mean = target.mean(axis=1)\n",
        "print(mean.shape)\n",
        "print(mean)"
      ],
      "metadata": {
        "colab": {
          "base_uri": "https://localhost:8080/"
        },
        "id": "_9fcdeM1ZTue",
        "outputId": "96ce73fe-4fdf-45a4-aa9b-20ae31a374b1"
      },
      "execution_count": 40,
      "outputs": [
        {
          "output_type": "stream",
          "name": "stdout",
          "text": [
            "(10000,)\n",
            "[1. 1. 1. ... 1. 1. 1.]\n"
          ]
        }
      ]
    },
    {
      "cell_type": "markdown",
      "source": [
        "# 코드를 통해서 XOR 문제 해결하기"
      ],
      "metadata": {
        "id": "FxLLamwAISJY"
      }
    },
    {
      "cell_type": "code",
      "source": [
        "# 가중치와 바이어스\n",
        "w11 = np.array([-2, -2])\n",
        "w12 = np.array([2, 2])\n",
        "w2 = np.array([1, 1]) # Y를 출력할 때의 가중치\n",
        "\n",
        "b1 = 3\n",
        "b2 = -1\n",
        "b3 = -1"
      ],
      "metadata": {
        "id": "c5AAAbW9IQyY"
      },
      "execution_count": 66,
      "outputs": []
    },
    {
      "cell_type": "code",
      "source": [
        "# 퍼셉트론\n",
        "def MLP(x, w, b):\n",
        "    y = np.sum(w * x) + b # 함수 정의\n",
        "\n",
        "    if y <= 0:\n",
        "        return 0\n",
        "    else:\n",
        "        return 1"
      ],
      "metadata": {
        "id": "h8QlZfXtJv5E"
      },
      "execution_count": 67,
      "outputs": []
    },
    {
      "cell_type": "code",
      "source": [
        "# NAND 게이트\n",
        "def NAND(x1,x2):\n",
        "    return MLP(np.array([x1, x2]), w11, b1)\n",
        "\n",
        "# OR 게이트\n",
        "def OR(x1,x2):\n",
        "    return MLP(np.array([x1, x2]), w12, b2)\n",
        "\n",
        "# AND 게이트\n",
        "def AND(x1,x2):\n",
        "    return MLP(np.array([x1, x2]), w2, b3)\n",
        "\n",
        "# XOR 게이트\n",
        "def XOR(x1,x2):\n",
        "    return AND(NAND(x1, x2),OR(x1,x2))"
      ],
      "metadata": {
        "id": "hruqACNnJ4YZ"
      },
      "execution_count": 43,
      "outputs": []
    },
    {
      "cell_type": "code",
      "source": [
        "# x1, x2 값을 번갈아 대입해 가며 최종 값 출력\n",
        "for x in [(0, 0), (1, 0), (0, 1), (1, 1)]:\n",
        "    y = XOR(x[0], x[1])\n",
        "    print(\"입력 값: \" + str(x) + \" 출력 값: \" + str(y))"
      ],
      "metadata": {
        "colab": {
          "base_uri": "https://localhost:8080/"
        },
        "id": "P6Z24XXTJ6I-",
        "outputId": "20f95fc1-9bc5-47c4-9fb7-3345103bd9da"
      },
      "execution_count": 44,
      "outputs": [
        {
          "output_type": "stream",
          "name": "stdout",
          "text": [
            "입력 값: (0, 0) 출력 값: 0\n",
            "입력 값: (1, 0) 출력 값: 1\n",
            "입력 값: (0, 1) 출력 값: 1\n",
            "입력 값: (1, 1) 출력 값: 0\n"
          ]
        }
      ]
    },
    {
      "cell_type": "markdown",
      "source": [
        "# Multi Perceptron Class 생성을 통해 해결하기"
      ],
      "metadata": {
        "id": "PaqqWAsvJpII"
      }
    },
    {
      "cell_type": "code",
      "source": [
        "# XOR 문제를 해결하기 위한 다층 퍼셉트론\n",
        "class SimpleMLP:\n",
        "    def __init__(self):\n",
        "        # 수동으로 설정한 가중치와 바이어스\n",
        "        self.weights_input_hidden = np.array([[-2, 2], [-2, 2]])  # x1, x2 -> n1, n2 계산을 위한 가중치 배열\n",
        "        self.bias_hidden = np.array([3, -1])  # x1, x2 -> n1, n2\n",
        "\n",
        "        # 출력층: 1개의 뉴런\n",
        "        self.weights_hidden_output = np.array([1, 1])  # n1, n2 -> y 가중치\n",
        "        self.bias_output = -1  # n1, n2 -> y 바이어스\n",
        "\n",
        "    def forward(self, X):\n",
        "        # 은닉층 계산\n",
        "        hidden_input = np.dot(X, self.weights_input_hidden) + self.bias_hidden\n",
        "        hidden_output = np.where(hidden_input <= 0, 0, 1)\n",
        "        print(f\"hidden_output : {hidden_input}\")\n",
        "\n",
        "        # 출력층 계산\n",
        "        final_input = np.dot(hidden_output, self.weights_hidden_output) + self.bias_output\n",
        "        final_output = np.where(final_input <= 0, 0, 1)\n",
        "        print(f\"final_output : {final_input}\")\n",
        "\n",
        "        return final_output"
      ],
      "metadata": {
        "id": "m57gn3nTaM9L"
      },
      "execution_count": 45,
      "outputs": []
    },
    {
      "cell_type": "code",
      "source": [
        "# XOR 데이터셋 정의\n",
        "XOR_X = np.array([[0, 0], [0, 1], [1, 0], [1, 1]])  # 입력값\n",
        "XOR_y = np.array([0, 1, 1, 0])  # XOR 출력값"
      ],
      "metadata": {
        "id": "5kAc9kaHaRwu"
      },
      "execution_count": 46,
      "outputs": []
    },
    {
      "cell_type": "code",
      "source": [
        "# 모델 초기화\n",
        "mlp = SimpleMLP()"
      ],
      "metadata": {
        "id": "uqNZS7fmaTwM"
      },
      "execution_count": 47,
      "outputs": []
    },
    {
      "cell_type": "code",
      "source": [
        "# 예측\n",
        "predictions = mlp.forward(XOR_X)\n",
        "# 결과 출력\n",
        "print(f\"XOR 문제 예측 결과: {predictions}\")"
      ],
      "metadata": {
        "colab": {
          "base_uri": "https://localhost:8080/"
        },
        "id": "emQQfaBebYJ7",
        "outputId": "7388c8cc-00be-4ee5-b3b7-ba8537f55834"
      },
      "execution_count": 48,
      "outputs": [
        {
          "output_type": "stream",
          "name": "stdout",
          "text": [
            "hidden_output : [[ 3 -1]\n",
            " [ 1  1]\n",
            " [ 1  1]\n",
            " [-1  3]]\n",
            "final_output : [0 1 1 0]\n",
            "XOR 문제 예측 결과: [0 1 1 0]\n"
          ]
        }
      ]
    }
  ]
}