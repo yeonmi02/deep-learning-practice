{
  "cells": [
    {
      "cell_type": "markdown",
      "metadata": {
        "id": "view-in-github",
        "colab_type": "text"
      },
      "source": [
        "<a href=\"https://colab.research.google.com/github/yeonmi02/deep-learning-practice/blob/main/250319_principle__regression.ipynb\" target=\"_parent\"><img src=\"https://colab.research.google.com/assets/colab-badge.svg\" alt=\"Open In Colab\"/></a>"
      ]
    },
    {
      "cell_type": "markdown",
      "id": "df693600",
      "metadata": {
        "id": "df693600"
      },
      "source": [
        "# 4장. 가장 훌륭한 예측선"
      ]
    },
    {
      "cell_type": "markdown",
      "id": "cb4bb2c8",
      "metadata": {
        "id": "cb4bb2c8"
      },
      "source": [
        "## 4. 파이썬 코딩으로 확인하는 최소 제곱"
      ]
    },
    {
      "cell_type": "markdown",
      "id": "8ce90623",
      "metadata": {
        "id": "8ce90623"
      },
      "source": [
        "### 1. 환경 준비"
      ]
    },
    {
      "cell_type": "code",
      "execution_count": null,
      "id": "86907981",
      "metadata": {
        "id": "86907981"
      },
      "outputs": [],
      "source": [
        "import numpy as np"
      ]
    },
    {
      "cell_type": "markdown",
      "id": "26e7632f",
      "metadata": {
        "id": "26e7632f"
      },
      "source": [
        "### 2. 데이터 준비"
      ]
    },
    {
      "cell_type": "code",
      "execution_count": null,
      "id": "a1678fe5",
      "metadata": {
        "id": "a1678fe5"
      },
      "outputs": [],
      "source": [
        "# 공부한 시간과 점수를 각각 x, y라는 넘파이 배열 생성\n",
        "x = np.array([2, 4, 6, 8])\n",
        "y = np.array([81, 93, 91, 97])"
      ]
    },
    {
      "cell_type": "markdown",
      "id": "2ad27943",
      "metadata": {
        "id": "2ad27943"
      },
      "source": [
        "#### [x와 y의 평균값]"
      ]
    },
    {
      "cell_type": "code",
      "execution_count": null,
      "id": "ba68a3b7",
      "metadata": {
        "id": "ba68a3b7",
        "outputId": "a44a141a-2b86-4857-e0d5-d27771fd38ac",
        "colab": {
          "base_uri": "https://localhost:8080/"
        }
      },
      "outputs": [
        {
          "output_type": "stream",
          "name": "stdout",
          "text": [
            "x의 평균값: 5.0\n",
            "y의 평균값: 90.5\n"
          ]
        }
      ],
      "source": [
        "# x의 평균값\n",
        "mx = np.mean(x)\n",
        "# y의 평균값\n",
        "my = np.mean(y)\n",
        "\n",
        "# 출력\n",
        "print(\"x의 평균값:\", mx)\n",
        "print(\"y의 평균값:\", my)"
      ]
    },
    {
      "cell_type": "markdown",
      "id": "86e62f9d",
      "metadata": {
        "id": "86e62f9d"
      },
      "source": [
        "#### [기울기 공식의 분모와 분자]"
      ]
    },
    {
      "cell_type": "code",
      "execution_count": null,
      "id": "8ca14c62",
      "metadata": {
        "id": "8ca14c62",
        "outputId": "ff27fa82-ff31-46a3-cda1-c75a0c6051cc",
        "colab": {
          "base_uri": "https://localhost:8080/"
        }
      },
      "outputs": [
        {
          "output_type": "stream",
          "name": "stdout",
          "text": [
            "분모: 20.0\n",
            "분자: 46.0\n"
          ]
        }
      ],
      "source": [
        "# 기울의 분모 부분\n",
        "divisor = sum([(i - mx)**2 for i in x])\n",
        "\n",
        "# 기울의 분자 부분\n",
        "def top(x, mx, y, my):\n",
        "    d = 0\n",
        "    for i in range(len(x)):\n",
        "        d += (x[i] - mx) * (y[i] - my)\n",
        "    return d\n",
        "dividend = top(x, mx, y, my)\n",
        "\n",
        "# 출력\n",
        "print(\"분모:\", divisor)\n",
        "print(\"분자:\", dividend)"
      ]
    },
    {
      "cell_type": "markdown",
      "id": "c117d1fe",
      "metadata": {
        "id": "c117d1fe"
      },
      "source": [
        "### 3. 기울기와 y 절편 구하기"
      ]
    },
    {
      "cell_type": "code",
      "execution_count": null,
      "id": "0fa99a7d",
      "metadata": {
        "id": "0fa99a7d",
        "outputId": "54f3a611-dc48-4c4f-e00e-51e500a94c7f",
        "colab": {
          "base_uri": "https://localhost:8080/"
        }
      },
      "outputs": [
        {
          "output_type": "stream",
          "name": "stdout",
          "text": [
            "기울기 a = 2.3\n",
            "y절편 b = 79.0\n"
          ]
        }
      ],
      "source": [
        "# 기울기 a 공식\n",
        "a = dividend / divisor\n",
        "\n",
        "# y 절편 b 공식\n",
        "b = my - (mx*a)\n",
        "\n",
        "# 출력\n",
        "print(\"기울기 a =\", a)\n",
        "print(\"y절편 b =\", b)"
      ]
    },
    {
      "cell_type": "markdown",
      "id": "4fb18def",
      "metadata": {
        "id": "4fb18def"
      },
      "source": [
        "## 6. 파이썬 코딩으로 확인하는 평균 제곱 오차"
      ]
    },
    {
      "cell_type": "markdown",
      "id": "e03f22bc",
      "metadata": {
        "id": "e03f22bc"
      },
      "source": [
        "### 1. 환경 준비"
      ]
    },
    {
      "cell_type": "code",
      "execution_count": null,
      "id": "ef1960f8",
      "metadata": {
        "id": "ef1960f8"
      },
      "outputs": [],
      "source": [
        "import numpy as np"
      ]
    },
    {
      "cell_type": "markdown",
      "id": "d269ffc7",
      "metadata": {
        "id": "d269ffc7"
      },
      "source": [
        "### 2. 데이터 준비"
      ]
    },
    {
      "cell_type": "code",
      "execution_count": null,
      "id": "3aa4d4da",
      "metadata": {
        "id": "3aa4d4da"
      },
      "outputs": [],
      "source": [
        "# 가상의 기울기 a와 y 절편 b\n",
        "fake_a=3\n",
        "fake_b=76\n",
        "\n",
        "# 공부 시간 x와 성적 y의 넘파이 배열\n",
        "x = np.array([2, 4, 6, 8])\n",
        "y = np.array([81, 93, 91, 97])"
      ]
    },
    {
      "cell_type": "markdown",
      "id": "5673ef31",
      "metadata": {
        "id": "5673ef31"
      },
      "source": [
        "### 3. 평균 제곱 오차 구하기"
      ]
    },
    {
      "cell_type": "code",
      "execution_count": null,
      "id": "142745f3",
      "metadata": {
        "id": "142745f3",
        "outputId": "f4ba72d8-71a1-485e-909d-f59c2e1d149b",
        "colab": {
          "base_uri": "https://localhost:8080/"
        }
      },
      "outputs": [
        {
          "output_type": "stream",
          "name": "stdout",
          "text": [
            "공부시간=2, 실제점수=81, 예측점수=82\n",
            "공부시간=4, 실제점수=93, 예측점수=88\n",
            "공부시간=6, 실제점수=91, 예측점수=94\n",
            "공부시간=8, 실제점수=97, 예측점수=100\n"
          ]
        }
      ],
      "source": [
        "# 함수에 가상의 a,b 값을 대입한 결과\n",
        "def predict(x):\n",
        "    return fake_a * x + fake_b\n",
        "\n",
        "# 예측 값이 들어갈 빈 리스트\n",
        "predict_result = []\n",
        "\n",
        "# 모든 x 값을 한 번씩 대입하여 리스트\n",
        "for i in range(len(x)):\n",
        "    predict_result.append(predict(x[i]))\n",
        "    print(\"공부시간=%.f, 실제점수=%.f, 예측점수=%.f\" % (x[i], y[i], predict(x[i])))"
      ]
    },
    {
      "cell_type": "code",
      "execution_count": null,
      "id": "c90e102f",
      "metadata": {
        "id": "c90e102f",
        "outputId": "986c78fb-6064-460a-b4ee-67cc4fd75530",
        "colab": {
          "base_uri": "https://localhost:8080/"
        }
      },
      "outputs": [
        {
          "output_type": "stream",
          "name": "stdout",
          "text": [
            "평균 제곱 오차: 11.0\n"
          ]
        }
      ],
      "source": [
        "# 평균 제곱 오차 함수를 각 y 값에 대입하여 최종 값\n",
        "n=len(x)\n",
        "def mse(y, y_pred):\n",
        "    return (1/n) * sum((y - y_pred)**2)\n",
        "\n",
        "print(\"평균 제곱 오차: \" + str(mse(y,predict_result)))"
      ]
    }
  ],
  "metadata": {
    "kernelspec": {
      "display_name": "Python 3 (ipykernel)",
      "language": "python",
      "name": "python3"
    },
    "language_info": {
      "codemirror_mode": {
        "name": "ipython",
        "version": 3
      },
      "file_extension": ".py",
      "mimetype": "text/x-python",
      "name": "python",
      "nbconvert_exporter": "python",
      "pygments_lexer": "ipython3",
      "version": "3.9.7"
    },
    "colab": {
      "provenance": [],
      "include_colab_link": true
    }
  },
  "nbformat": 4,
  "nbformat_minor": 5
}